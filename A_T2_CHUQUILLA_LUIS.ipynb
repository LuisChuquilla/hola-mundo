{
  "nbformat": 4,
  "nbformat_minor": 0,
  "metadata": {
    "colab": {
      "provenance": [],
      "authorship_tag": "ABX9TyPH6hlDnMH0+2f4TXMWhfSz",
      "include_colab_link": true
    },
    "kernelspec": {
      "name": "python3",
      "display_name": "Python 3"
    },
    "language_info": {
      "name": "python"
    }
  },
  "cells": [
    {
      "cell_type": "markdown",
      "metadata": {
        "id": "view-in-github",
        "colab_type": "text"
      },
      "source": [
        "<a href=\"https://colab.research.google.com/github/LuisChuquilla/hola-mundo/blob/main/A_T2_CHUQUILLA_LUIS.ipynb\" target=\"_parent\"><img src=\"https://colab.research.google.com/assets/colab-badge.svg\" alt=\"Open In Colab\"/></a>"
      ]
    },
    {
      "cell_type": "code",
      "execution_count": 2,
      "metadata": {
        "colab": {
          "base_uri": "https://localhost:8080/"
        },
        "id": "PgWanupIpgNn",
        "outputId": "d2d5b7ed-afb8-40e6-9578-02c593ea1b55"
      },
      "outputs": [
        {
          "output_type": "stream",
          "name": "stdout",
          "text": [
            "hola mundo\n"
          ]
        }
      ],
      "source": [
        "#Hola Mundo: Escribe un programa que imprima \"Hola, Mundo!\" en la pantalla.\n",
        "print(\"hola mundo\")"
      ]
    },
    {
      "cell_type": "code",
      "source": [
        "# Suma de dos números: Escribe un programa que pida al usuario dos números y los sume.\n",
        "numero1 = int(input(\"Ingrese el primer número: \"))\n",
        "numero2 = int(input(\"Ingrese el segundo número: \"))\n",
        "suma = numero1 + numero2\n",
        "print(\"El resultado es: \", suma)"
      ],
      "metadata": {
        "colab": {
          "base_uri": "https://localhost:8080/"
        },
        "id": "DgBraeUoqamJ",
        "outputId": "f939d22f-2cca-4043-c3e0-e8dc4993fd23"
      },
      "execution_count": 8,
      "outputs": [
        {
          "output_type": "stream",
          "name": "stdout",
          "text": [
            "Ingrese el primer número: 3\n",
            "Ingrese el segundo número: 4\n",
            "El resultado es:  7\n"
          ]
        }
      ]
    },
    {
      "cell_type": "code",
      "source": [
        "#Par o Impar: Escribe un programa que determine si un número introducido por el usuario es par o impar.\n",
        "numero1 = int(input(\"Ingrese un número: \"))\n",
        "\n",
        "if numero1 % 2 == 0:\n",
        "   print(\"El numero es par\")\n",
        "else:\n",
        "   print(\"El numero es impar\")"
      ],
      "metadata": {
        "colab": {
          "base_uri": "https://localhost:8080/"
        },
        "id": "UWQw49Z4tBlg",
        "outputId": "2545f71e-9ae3-46a4-f1ba-b46a050cfaf4"
      },
      "execution_count": 21,
      "outputs": [
        {
          "output_type": "stream",
          "name": "stdout",
          "text": [
            "Ingrese un número: 5\n",
            "El numero es impar\n"
          ]
        }
      ]
    },
    {
      "cell_type": "code",
      "source": [
        "#Calculadora básica: Escribe un programa que realice operaciones básicas (suma, resta, multiplicación y división) entre dos números introducidos por el usuario.\n",
        "\n",
        "numero1 = int(input(\" Ingrese numero \"))\n",
        "numero2 = int(input(\" Ingrese numero \"))\n",
        "\n",
        "print(\"Menu: 1.-Suma 2.-Resta 3.-Division 4.-Multiplicacion\")\n",
        "op = input(\"Eliga la operacion\")\n",
        "\n",
        "if op == \"1\":\n",
        "   suma = (numero1 + numero2)\n",
        "   print(\"Suma\")\n",
        "   print(suma)\n",
        "elif op == \"2\":\n",
        "   resta = (numero1 - numero2)\n",
        "   print(\"Resta\")\n",
        "   print(resta)\n",
        "elif op == \"3\":\n",
        "   division = (numero1 / numero2)\n",
        "   print(\"Division\")\n",
        "   print(division)\n",
        "elif op == \"4\":\n",
        "   multiplicacion = (numero1 * numero2)\n",
        "   print(\"Multiplicacion\")\n",
        "   print(multiplicacion)"
      ],
      "metadata": {
        "colab": {
          "base_uri": "https://localhost:8080/"
        },
        "id": "KiZuVr1-uiJe",
        "outputId": "8bd12b8d-d7ad-43b6-d7a3-743cc8d4b55e"
      },
      "execution_count": 13,
      "outputs": [
        {
          "output_type": "stream",
          "name": "stdout",
          "text": [
            " Ingrese numero 3\n",
            " Ingrese numero 4\n",
            "Menu: 1.-Suma 2.-Resta 3.-Division 4.-Multiplicacion\n",
            "Eliga la operacion2\n",
            "Resta\n",
            "-1\n"
          ]
        }
      ]
    },
    {
      "cell_type": "code",
      "source": [
        "#Número mayor: Escribe un programa que pida tres números al usuario y determine cuál es el mayor.\n",
        "numero1 = int(input(\" Ingrese numero \"))\n",
        "numero2 = int(input(\" Ingrese numero \"))\n",
        "numero3 = int(input(\" Ingrese numero \"))\n",
        "\n",
        "\n",
        "\n"
      ],
      "metadata": {
        "id": "LY5YJC7PwYV-"
      },
      "execution_count": null,
      "outputs": []
    },
    {
      "cell_type": "code",
      "source": [],
      "metadata": {
        "id": "N1JtH25dxNN1"
      },
      "execution_count": null,
      "outputs": []
    }
  ]
}