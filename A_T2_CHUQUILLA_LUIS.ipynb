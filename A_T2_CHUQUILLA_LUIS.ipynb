{
  "nbformat": 4,
  "nbformat_minor": 0,
  "metadata": {
    "colab": {
      "provenance": [],
      "authorship_tag": "ABX9TyPamcUrPMxOrHq701FJn88N",
      "include_colab_link": true
    },
    "kernelspec": {
      "name": "python3",
      "display_name": "Python 3"
    },
    "language_info": {
      "name": "python"
    }
  },
  "cells": [
    {
      "cell_type": "markdown",
      "metadata": {
        "id": "view-in-github",
        "colab_type": "text"
      },
      "source": [
        "<a href=\"https://colab.research.google.com/github/LuisChuquilla/hola-mundo/blob/main/A_T2_CHUQUILLA_LUIS.ipynb\" target=\"_parent\"><img src=\"https://colab.research.google.com/assets/colab-badge.svg\" alt=\"Open In Colab\"/></a>"
      ]
    },
    {
      "cell_type": "markdown",
      "source": [
        "# **TRABAJO 2**\n",
        "## **TECNOLOGIAS DE LA INFORAMCION Y COMUNICACIÓN**\n",
        "### UNIDAD 3 - HERRAMIENTAS COLABORATIVAS EN LÍNEA"
      ],
      "metadata": {
        "id": "IWPnFzyPz9y5"
      }
    },
    {
      "cell_type": "code",
      "execution_count": null,
      "metadata": {
        "colab": {
          "base_uri": "https://localhost:8080/"
        },
        "id": "PgWanupIpgNn",
        "outputId": "d2d5b7ed-afb8-40e6-9578-02c593ea1b55"
      },
      "outputs": [
        {
          "output_type": "stream",
          "name": "stdout",
          "text": [
            "hola mundo\n"
          ]
        }
      ],
      "source": [
        "#1.-Hola Mundo: Escribe un programa que imprima \"Hola, Mundo!\" en la pantalla.\n",
        "print(\"hola mundo\") #print es para mostrar un cadena de texo, valores, etc, por ejemplo\"holamundo\""
      ]
    },
    {
      "cell_type": "code",
      "source": [
        "#2.-Suma de dos números: Escribe un programa que pida al usuario dos números y los sume.\n",
        "numero1 = int(input(\"Ingrese el primer número: \")) #Pedimos los dos numero al usuario mediante input y convertirlos en enteros (int) para sumarlos\n",
        "numero2 = int(input(\"Ingrese el segundo número: \"))\n",
        "suma = numero1 + numero2 #Sumamos los dos numeros que pedimos al usuario\n",
        "print(\"El resultado es: \", suma) #Muestra el resultado de la operacion"
      ],
      "metadata": {
        "colab": {
          "base_uri": "https://localhost:8080/"
        },
        "id": "DgBraeUoqamJ",
        "outputId": "f939d22f-2cca-4043-c3e0-e8dc4993fd23"
      },
      "execution_count": null,
      "outputs": [
        {
          "output_type": "stream",
          "name": "stdout",
          "text": [
            "Ingrese el primer número: 3\n",
            "Ingrese el segundo número: 4\n",
            "El resultado es:  7\n"
          ]
        }
      ]
    },
    {
      "cell_type": "code",
      "source": [
        "#3.-Par o Impar: Escribe un programa que determine si un número introducido por el usuario es par o impar.\n",
        "numero1 = int(input(\"Ingrese un número: \")) #Pedimos al usuario el numero que quiera saber si es par o impar\n",
        "\n",
        "if numero1 % 2 == 0: #Si el numero es divisible para 2 con residuo cero es par\n",
        "   print(\"El numero es par\")\n",
        "else: #Si no cumple la condicion anterior logicamente es impar\n",
        "   print(\"El numero es impar\")"
      ],
      "metadata": {
        "colab": {
          "base_uri": "https://localhost:8080/"
        },
        "id": "UWQw49Z4tBlg",
        "outputId": "022d362e-9a8b-4be2-e75a-f0b55e8b214e"
      },
      "execution_count": null,
      "outputs": [
        {
          "output_type": "stream",
          "name": "stdout",
          "text": [
            "Ingrese un número: 4\n",
            "El numero es par\n"
          ]
        }
      ]
    },
    {
      "cell_type": "code",
      "source": [
        "#4.-Calculadora básica: Escribe un programa que realice operaciones básicas (suma, resta, multiplicación y división) entre dos números introducidos por el usuario.\n",
        "\n",
        "numero1 = int(input(\" Ingrese numero \")) #Solicitamos los dos valores al usuario y los convertimos en enteros\n",
        "numero2 = int(input(\" Ingrese numero \"))\n",
        "\n",
        "print(\"Menu: 1.-Suma 2.-Resta 3.-Division 4.-Multiplicacion\")\n",
        "op = input(\"Eliga la operacion\") #Creamos un menu para elegir la operacion que deseemos\n",
        "\n",
        "if op == \"1\": #Dependiendo de la opcion sumara, restara, dividara o multiplicara los dos valores que solicitamos\n",
        "   suma = (numero1 + numero2)\n",
        "   print(\"Suma\")\n",
        "   print(suma)\n",
        "elif op == \"2\":\n",
        "   resta = (numero1 - numero2)\n",
        "   print(\"Resta\")\n",
        "   print(resta)\n",
        "elif op == \"3\":\n",
        "   division = (numero1 / numero2)\n",
        "   print(\"Division\")\n",
        "   print(division)\n",
        "elif op == \"4\":\n",
        "   multiplicacion = (numero1 * numero2)\n",
        "   print(\"Multiplicacion\")\n",
        "   print(multiplicacion)"
      ],
      "metadata": {
        "colab": {
          "base_uri": "https://localhost:8080/"
        },
        "id": "KiZuVr1-uiJe",
        "outputId": "8bd12b8d-d7ad-43b6-d7a3-743cc8d4b55e"
      },
      "execution_count": null,
      "outputs": [
        {
          "output_type": "stream",
          "name": "stdout",
          "text": [
            " Ingrese numero 3\n",
            " Ingrese numero 4\n",
            "Menu: 1.-Suma 2.-Resta 3.-Division 4.-Multiplicacion\n",
            "Eliga la operacion2\n",
            "Resta\n",
            "-1\n"
          ]
        }
      ]
    },
    {
      "cell_type": "code",
      "source": [
        "#5.-Número mayor: Escribe un programa que pida tres números al usuario y determine cuál es el mayor.\n",
        "numero1 = int(input(\" Ingrese numero \"))\n",
        "numero2 = int(input(\" Ingrese numero \"))\n",
        "numero3 = int(input(\" Ingrese numero \"))"
      ],
      "metadata": {
        "id": "LY5YJC7PwYV-"
      },
      "execution_count": null,
      "outputs": []
    },
    {
      "cell_type": "code",
      "source": [
        "#6.-Cálculo del área de un círculo: Escribe un programa que calcule el área de un círculo a partir de su radio, ingresado por el usuario.\n",
        "\n",
        "radio = int(input(\" Ingrese el radio del circulo \"))#Solicitamos el radio del circulo\n",
        "\n",
        "area = 3.141592653589793 * (radio * radio) #Usamos la formula que es Pi2radio(3.11415...) mutiplicado por 2 veces el radio solicitado\n",
        "print(\"El area del circulo es:\", area, \"centimetros cuadrados.\")"
      ],
      "metadata": {
        "colab": {
          "base_uri": "https://localhost:8080/"
        },
        "id": "N1JtH25dxNN1",
        "outputId": "34e380bc-b603-4ddb-9d88-20eef3149c35"
      },
      "execution_count": null,
      "outputs": [
        {
          "output_type": "stream",
          "name": "stdout",
          "text": [
            " Ingrese el radio del circulo 22\n",
            "El area del circulo es: 1520.53084433746 centimetros cuadrados.\n"
          ]
        }
      ]
    },
    {
      "cell_type": "code",
      "source": [
        "#7.-Conversión de grados Celsius a Fahrenheit: Escribe un programa que convierta una temperatura dada en grados Celsius a grados Fahrenheit.\n",
        "temperatura = int(input(\" Ingrese temperatura en Celsius \")) # Solicitamos la temperatura en Celsius\n",
        "\n",
        "far = (temperatura * (9/5)) + 32 #Usamos la formula que es (temperatura solicitada) multiplicado por (9 dividido para 5) +32\n",
        "print(\"La temperatura en Fahrenheit es:\", far)"
      ],
      "metadata": {
        "colab": {
          "base_uri": "https://localhost:8080/"
        },
        "id": "K6T4m79A3sj4",
        "outputId": "700dc1a5-c4a8-4c63-df42-7375bb69be9f"
      },
      "execution_count": null,
      "outputs": [
        {
          "output_type": "stream",
          "name": "stdout",
          "text": [
            " Ingrese temperatura en Celsius 34\n",
            "La temperatura en Fahrenheit es: 93.2\n"
          ]
        }
      ]
    },
    {
      "cell_type": "code",
      "source": [
        "#Cuenta atrás: Escribe un programa que cuente hacia atrás desde 10 hasta 0.\n",
        "conteo = [] #creamos una lista vacia\n",
        "for i in range(10,0,-1): # Con \"for\" recorremos en un rango de 10 a 0 determinado con \"range\" que se guarda en \"i\"\n",
        "       conteo.append(i) #Con \"append\" con el nombre de la variable al inicio añadimos los valores de \"i\" que son los numeros del 10 al 0\n",
        "\n",
        "print(conteo)"
      ],
      "metadata": {
        "id": "z1TkNtQm4o2o",
        "colab": {
          "base_uri": "https://localhost:8080/"
        },
        "outputId": "af037009-ca5e-4a26-ca31-a7017305f070"
      },
      "execution_count": null,
      "outputs": [
        {
          "output_type": "stream",
          "name": "stdout",
          "text": [
            "[10, 9, 8, 7, 6, 5, 4, 3, 2, 1]\n"
          ]
        }
      ]
    },
    {
      "cell_type": "markdown",
      "source": [],
      "metadata": {
        "id": "s4WQebu2z8r8"
      }
    },
    {
      "cell_type": "code",
      "source": [
        "#Tabla de multiplicar: Escribe un programa que muestre la tabla de multiplicar de un\n",
        "#número introducido por el usuario.\n",
        "\n",
        "numero = int(input(\"Ingrese un numero\")) #Solicitamos el numero que se desea multiplicar\n",
        "\n",
        "for tabla in range(1,11): #Recorremos con for un rango de 1 a 11 para saber la 10 tablas del numero ingresado que se guardan en \"tabla\"\n",
        "      mul = numero * tabla #multiplicamos cada uno de los numeros (10) que estan en tabla por el numero ingresado(numero)\n",
        "      print(mul)"
      ],
      "metadata": {
        "colab": {
          "base_uri": "https://localhost:8080/"
        },
        "id": "lujO0yICgQUG",
        "outputId": "667eac92-9b27-48c5-c2d7-78f65e16f232"
      },
      "execution_count": null,
      "outputs": [
        {
          "output_type": "stream",
          "name": "stdout",
          "text": [
            "Ingrese un numero4\n",
            "4\n",
            "8\n",
            "12\n",
            "16\n",
            "20\n",
            "24\n",
            "28\n",
            "32\n",
            "36\n",
            "40\n"
          ]
        }
      ]
    },
    {
      "cell_type": "code",
      "source": [
        "def primo(num): #Definimos la funcion \"primo\" que cuando la llamemos ejecutara la operacion\n",
        "    if num <= 1: #Si el numero es menor a 1\n",
        "         return False\n",
        "    for n in range(2, int(num ** 0.5) + 1):\n",
        "        if num % n == 0:\n",
        "           print(\"No es primo\")\n",
        "           return False\n",
        "    print(\"Es primo\")\n",
        "    return True\n",
        "num = int(input(\"Ingrese un numero\"))\n",
        "primo(num)"
      ],
      "metadata": {
        "id": "8cXq_vz4m_sX"
      },
      "execution_count": null,
      "outputs": []
    },
    {
      "cell_type": "code",
      "source": [
        "#Invertir una cadena: Escribe un programa que invierta una cadena introducida por\n",
        "#el usuario.\n",
        "\n",
        "def invertir(): #Definimos la funcion recorrer\n",
        "    cadena = input(\"Introduce una cadena\") #Solicitamos la cadena que necesitamos invertir\n",
        "    cadenai = cadena[ ::-1] #Definimos que nuestra cadena ira del final hacia el inicio con los subindices [ ::-1]\n",
        "    print(\"La cadena invertida es\", cadenai)\n",
        "\n",
        "invertir() #Llama la cadena se ejecuta el script"
      ],
      "metadata": {
        "colab": {
          "base_uri": "https://localhost:8080/"
        },
        "id": "jQ2i-ctYpSsZ",
        "outputId": "9546cd99-3093-460b-a8fa-7711b65cd102"
      },
      "execution_count": null,
      "outputs": [
        {
          "output_type": "stream",
          "name": "stdout",
          "text": [
            "Introduce una cadenaabcdefghj\n",
            "La cadena invertida es jhgfedcba\n"
          ]
        }
      ]
    },
    {
      "cell_type": "code",
      "source": [
        "#Contar vocales: Escribe un programa que cuente el número de vocales en una\n",
        "#cadena introducida por el usuario.\n",
        "\n",
        "def contar():\n",
        "    cadena = input(\"Introduce una cadena\") #Solicitamos la cadena\n",
        "    vocales = \"aeiouAEIOUáéíóùÁÉÍÓÚ\" #Con una variable llamada \"vocales\" comparamos todo tipo de vocal que tenga escrita la cadena\n",
        "    contador = 0 #Un contador en cero para que cada bocal encontrada sumara uno\n",
        "    for vocal in cadena: #recorremos la cadena ingresasa \"cadena\" y la guardamos en \"vocal\"\n",
        "        if vocal in vocales:\n",
        "             contador += 1\n",
        "    print(\"La cadena tiene\", contador, \"vocales\")\n",
        "\n",
        "contar()"
      ],
      "metadata": {
        "colab": {
          "base_uri": "https://localhost:8080/",
          "height": 106
        },
        "id": "ReLAZWYWp7ap",
        "outputId": "ce20f08c-cdd5-45aa-8326-6087e3084231"
      },
      "execution_count": null,
      "outputs": [
        {
          "output_type": "error",
          "ename": "SyntaxError",
          "evalue": "invalid syntax (<ipython-input-55-344615eb8cd7>, line 7)",
          "traceback": [
            "\u001b[0;36m  File \u001b[0;32m\"<ipython-input-55-344615eb8cd7>\"\u001b[0;36m, line \u001b[0;32m7\u001b[0m\n\u001b[0;31m    contador = 0 \"Un contador en cero para que cada bocal encontrada sumara uno\"\u001b[0m\n\u001b[0m                 ^\u001b[0m\n\u001b[0;31mSyntaxError\u001b[0m\u001b[0;31m:\u001b[0m invalid syntax\n"
          ]
        }
      ]
    },
    {
      "cell_type": "code",
      "source": [
        "#Escribe un programa que determine si una cadena introducida por el usuario es un palíndromo.\n",
        "\n",
        "def es_palindromo():\n",
        "    cadena_usuario = input(\"Introduce una cadena: \")\n",
        "    cadena_usuario = cadena_usuario.replace(\" \", \"\").lower()  # Eliminamos espacios y convertimos a minúsculas\n",
        "    if cadena_usuario == cadena_usuario[::-1]:  # Comparamos la cadena con su reversa\n",
        "        print(\"La cadena es un palíndromo\")\n",
        "    else:\n",
        "        print(\"La cadena no es un palíndromo\")\n",
        "\n",
        "es_palindromo()"
      ],
      "metadata": {
        "colab": {
          "base_uri": "https://localhost:8080/"
        },
        "id": "-SdGID-_q4Dm",
        "outputId": "2a051817-c381-432f-8a37-5d3e88916db5"
      },
      "execution_count": null,
      "outputs": [
        {
          "output_type": "stream",
          "name": "stdout",
          "text": [
            "Introduce una cadena: argentino\n",
            "La cadena no es un palíndromo\n"
          ]
        }
      ]
    },
    {
      "cell_type": "code",
      "source": [
        "\n",
        "#Factorial de un número: Escribe un programa que calcule el factorial de un número introducido por el usuario.\n",
        "\n",
        "def factorial():\n",
        "    numero_usuario = int(input(\"Introduce un número: \"))\n",
        "    factorial = 1\n",
        "    for i in range(1, numero_usuario + 1):\n",
        "        factorial *= i\n",
        "    print(\"El factorial de\", numero_usuario, \"es\", factorial)\n",
        "\n",
        "factorial()"
      ],
      "metadata": {
        "colab": {
          "base_uri": "https://localhost:8080/"
        },
        "id": "PlTClCU2sUdK",
        "outputId": "a2d656cf-7096-4709-beca-0ca5bc37989d"
      },
      "execution_count": null,
      "outputs": [
        {
          "output_type": "stream",
          "name": "stdout",
          "text": [
            "Introduce un número: 100\n",
            "El factorial de 100 es 93326215443944152681699238856266700490715968264381621468592963895217599993229915608941463976156518286253697920827223758251185210916864000000000000000000000000\n"
          ]
        }
      ]
    },
    {
      "cell_type": "code",
      "source": [
        "#Escribe un programa que calcule el índice de masa corporal (IMC) a partir del peso y la altura introducidos por el usuario\n",
        "\n",
        "def calcular_imc():\n",
        "    peso_usuario = float(input(\"Introduce tu peso en kg: \"))\n",
        "    altura_usuario = float(input(\"Introduce tu altura en m: \"))\n",
        "    imc_usuario = peso_usuario / (altura_usuario ** 2)\n",
        "    print(\"Tu IMC es\", round(imc_usuario, 2))\n",
        "\n",
        "calcular_imc()"
      ],
      "metadata": {
        "colab": {
          "base_uri": "https://localhost:8080/"
        },
        "id": "Qby5e93fsukp",
        "outputId": "c2e62594-d828-4f98-e94a-25dc0fbd82a7"
      },
      "execution_count": null,
      "outputs": [
        {
          "output_type": "stream",
          "name": "stdout",
          "text": [
            "Introduce tu peso en kg: 67\n",
            "Introduce tu altura en m: 1.60\n",
            "Tu IMC es 26.17\n"
          ]
        }
      ]
    }
  ]
}